{
 "cells": [
  {
   "cell_type": "code",
   "execution_count": 1,
   "id": "20cdcd60",
   "metadata": {},
   "outputs": [],
   "source": [
    "import cobra\n",
    "from cobra.io import load_matlab_model, save_matlab_model\n",
    "from cobra.util.solver import linear_reaction_coefficients\n",
    "import pandas as pd\n"
   ]
  },
  {
   "cell_type": "code",
   "execution_count": 2,
   "id": "b6bcd1db",
   "metadata": {},
   "outputs": [],
   "source": [
    "ihuman = load_matlab_model('HumanGEM.mat')\n"
   ]
  },
  {
   "cell_type": "code",
   "execution_count": 3,
   "id": "e56c6c14",
   "metadata": {},
   "outputs": [],
   "source": [
    "from cobra import Configuration\n",
    "Configuration.solver = 'cplex'\n"
   ]
  },
  {
   "cell_type": "code",
   "execution_count": 6,
   "id": "511727dd",
   "metadata": {},
   "outputs": [],
   "source": [
    "def parse_task_list(filename):\n",
    "    return pd.read_excel(filename)\n",
    "\n",
    "essential_tasks = parse_task_list('metabolicTasks_Essential.xlsx')\n",
    "\n",
    "\n"
   ]
  },
  {
   "cell_type": "code",
   "execution_count": 7,
   "id": "e8b5b57a",
   "metadata": {},
   "outputs": [],
   "source": [
    "def check_tasks(model, tasks):\n",
    "    # Implement the actual task checking logic\n",
    "    pass\n",
    "\n",
    "check_tasks(ihuman, essential_tasks)\n"
   ]
  },
  {
   "cell_type": "code",
   "execution_count": 8,
   "id": "de5fdf1e",
   "metadata": {},
   "outputs": [],
   "source": [
    "def expression_data_prepare(index):\n",
    "    # This is a placeholder implementation\n",
    "    # Replace this with your actual data loading logic\n",
    "    if index == 1:\n",
    "        return [1, 2, 3], [4, 5, 6]\n",
    "    elif index == 2:\n",
    "        return [7, 8, 9], [10, 11, 12]\n",
    "    elif index == 3:\n",
    "        return [13, 14, 15], [16, 17, 18]\n",
    "    else:\n",
    "        return None, None\n",
    "\n",
    "val_UI_NHBES, val_I_NHBES = expression_data_prepare(1)\n",
    "val_UI_NHBEI, val_I_NHBEI = expression_data_prepare(2)\n",
    "val_UI_Biop, val_I_Biop = expression_data_prepare(3)\n"
   ]
  },
  {
   "cell_type": "code",
   "execution_count": 9,
   "id": "0f99c724",
   "metadata": {},
   "outputs": [],
   "source": [
    "def tinit_model_integration(val_UI, val_I, model):\n",
    "    # This is a placeholder implementation\n",
    "    # Replace this with your actual tINIT integration logic\n",
    "    integrated_model_UI = model.copy()  # Placeholder: Modify as needed\n",
    "    integrated_model_I = model.copy()   # Placeholder: Modify as needed\n",
    "    return integrated_model_UI, integrated_model_I\n",
    "\n",
    "modelUI_NHBES, modelI_NHBES = tinit_model_integration(val_UI_NHBES, val_I_NHBES, ihuman)\n",
    "modelUI_NHBEI, modelI_NHBEI = tinit_model_integration(val_UI_NHBEI, val_I_NHBEI, ihuman)\n",
    "modelUI_Biop, modelI_Biop = tinit_model_integration(val_UI_Biop, val_I_Biop, ihuman)\n"
   ]
  },
  {
   "cell_type": "code",
   "execution_count": 11,
   "id": "e7e3bb4e",
   "metadata": {},
   "outputs": [],
   "source": [
    "def remove_rules_field(model):\n",
    "    if hasattr(model, 'rules'):\n",
    "        delattr(model, 'rules')\n",
    "\n",
    "remove_rules_field(modelI_NHBES)\n",
    "remove_rules_field(modelI_NHBEI)\n",
    "remove_rules_field(modelI_Biop)\n",
    "\n"
   ]
  },
  {
   "cell_type": "code",
   "execution_count": 12,
   "id": "8e999cba",
   "metadata": {},
   "outputs": [],
   "source": [
    "save_matlab_model(modelI_NHBES, 'HumanGEMNHBESARS1.mat')\n",
    "save_matlab_model(modelUI_NHBES, 'HumanGEMNHBESARSMock1.mat')\n",
    "save_matlab_model(modelI_NHBEI, 'HumanGEMNHBEIAV1.mat')\n",
    "save_matlab_model(modelUI_NHBEI, 'HumanGEMNHBEIAVMock1.mat')\n",
    "save_matlab_model(modelI_Biop, 'HumanGEMBiopsySARS1.mat')\n",
    "save_matlab_model(modelUI_Biop, 'HumanGEMBiopsyMock1.mat')\n"
   ]
  },
  {
   "cell_type": "code",
   "execution_count": null,
   "id": "2bf9793b",
   "metadata": {},
   "outputs": [],
   "source": []
  }
 ],
 "metadata": {
  "kernelspec": {
   "display_name": "Python 3 (ipykernel)",
   "language": "python",
   "name": "python3"
  },
  "language_info": {
   "codemirror_mode": {
    "name": "ipython",
    "version": 3
   },
   "file_extension": ".py",
   "mimetype": "text/x-python",
   "name": "python",
   "nbconvert_exporter": "python",
   "pygments_lexer": "ipython3",
   "version": "3.11.5"
  }
 },
 "nbformat": 4,
 "nbformat_minor": 5
}
