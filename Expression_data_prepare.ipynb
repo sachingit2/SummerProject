{
 "cells": [
  {
   "cell_type": "code",
   "execution_count": 1,
   "id": "68b86aac",
   "metadata": {},
   "outputs": [
    {
     "name": "stdout",
     "output_type": "stream",
     "text": [
      "Requirement already satisfied: conda in d:\\software\\lib\\site-packages (23.7.4)\n",
      "Requirement already satisfied: boltons>=23.0.0 in d:\\software\\lib\\site-packages (from conda) (23.0.0)\n",
      "Requirement already satisfied: conda-package-handling>=1.3.0 in d:\\software\\lib\\site-packages (from conda) (2.2.0)\n",
      "Requirement already satisfied: jsonpatch>=1.32 in d:\\software\\lib\\site-packages (from conda) (1.32)\n",
      "Requirement already satisfied: menuinst<2,>=1.4.11 in d:\\software\\lib\\site-packages (from conda) (1.4.19)\n",
      "Requirement already satisfied: packaging in d:\\software\\lib\\site-packages (from conda) (23.1)\n",
      "Requirement already satisfied: pluggy>=1.0.0 in d:\\software\\lib\\site-packages (from conda) (1.0.0)\n",
      "Requirement already satisfied: pycosat>=0.6.3 in d:\\software\\lib\\site-packages (from conda) (0.6.4)\n",
      "Requirement already satisfied: pyopenssl>=16.2.0 in d:\\software\\lib\\site-packages (from conda) (23.2.0)\n",
      "Requirement already satisfied: requests<3,>=2.27.0 in d:\\software\\lib\\site-packages (from conda) (2.31.0)\n",
      "Requirement already satisfied: ruamel-yaml<0.18,>=0.11.14 in d:\\software\\lib\\site-packages (from conda) (0.17.21)\n",
      "Requirement already satisfied: setuptools>=60.0.0 in d:\\software\\lib\\site-packages (from conda) (68.0.0)\n",
      "Requirement already satisfied: toolz>=0.8.1 in d:\\software\\lib\\site-packages (from conda) (0.12.0)\n",
      "Requirement already satisfied: tqdm>=4 in d:\\software\\lib\\site-packages (from conda) (4.65.0)\n",
      "Requirement already satisfied: conda-package-streaming>=0.9.0 in d:\\software\\lib\\site-packages (from conda-package-handling>=1.3.0->conda) (0.9.0)\n",
      "Requirement already satisfied: jsonpointer>=1.9 in d:\\software\\lib\\site-packages (from jsonpatch>=1.32->conda) (2.1)\n",
      "Requirement already satisfied: cryptography!=40.0.0,!=40.0.1,<42,>=38.0.0 in d:\\software\\lib\\site-packages (from pyopenssl>=16.2.0->conda) (41.0.3)\n",
      "Requirement already satisfied: charset-normalizer<4,>=2 in d:\\software\\lib\\site-packages (from requests<3,>=2.27.0->conda) (2.0.4)\n",
      "Requirement already satisfied: idna<4,>=2.5 in d:\\software\\lib\\site-packages (from requests<3,>=2.27.0->conda) (3.4)\n",
      "Requirement already satisfied: urllib3<3,>=1.21.1 in d:\\software\\lib\\site-packages (from requests<3,>=2.27.0->conda) (1.26.16)\n",
      "Requirement already satisfied: certifi>=2017.4.17 in d:\\software\\lib\\site-packages (from requests<3,>=2.27.0->conda) (2024.6.2)\n",
      "Requirement already satisfied: colorama in d:\\software\\lib\\site-packages (from tqdm>=4->conda) (0.4.6)\n",
      "Requirement already satisfied: zstandard>=0.15 in d:\\software\\lib\\site-packages (from conda-package-streaming>=0.9.0->conda-package-handling>=1.3.0->conda) (0.19.0)\n",
      "Requirement already satisfied: cffi>=1.12 in d:\\software\\lib\\site-packages (from cryptography!=40.0.0,!=40.0.1,<42,>=38.0.0->pyopenssl>=16.2.0->conda) (1.15.1)\n",
      "Requirement already satisfied: pycparser in d:\\software\\lib\\site-packages (from cffi>=1.12->cryptography!=40.0.0,!=40.0.1,<42,>=38.0.0->pyopenssl>=16.2.0->conda) (2.21)\n",
      "Note: you may need to restart the kernel to use updated packages.\n"
     ]
    }
   ],
   "source": [
    "pip install conda\n"
   ]
  },
  {
   "cell_type": "code",
   "execution_count": 2,
   "id": "c3b887c8",
   "metadata": {},
   "outputs": [
    {
     "name": "stdout",
     "output_type": "stream",
     "text": [
      "Requirement already satisfied: docplex in d:\\software\\lib\\site-packages (2.27.239)\n",
      "Requirement already satisfied: six in d:\\software\\lib\\site-packages (from docplex) (1.16.0)\n",
      "Note: you may need to restart the kernel to use updated packages.\n"
     ]
    }
   ],
   "source": [
    "pip install docplex"
   ]
  },
  {
   "cell_type": "code",
   "execution_count": 3,
   "id": "2e6a2ddb",
   "metadata": {},
   "outputs": [],
   "source": [
    "def expressionDataPrepare(key):\n",
    "    if key == 1:\n",
    "        range_UI = list(range(3, 6))\n",
    "        range_I = list(range(6, 9))\n",
    "    elif key == 2:\n",
    "        range_UI = list(range(50, 54))\n",
    "        range_I = list(range(54, 58))\n",
    "    elif key == 3:\n",
    "        range_UI = list(range(68, 70))\n",
    "        range_I = list(range(70, 72))\n",
    "    \n",
    "    expr = pd.read_csv('MetTPMAll.csv')\n",
    "    \n",
    "    geneExpr_UI = expr.iloc[:, range_UI].astype(float).values\n",
    "    geneExpr_I = expr.iloc[:, range_I].astype(float).values\n",
    "    \n",
    "    val_UI = geneExpr_UI.mean(axis=1)\n",
    "    val_I = geneExpr_I.mean(axis=1)\n",
    "    \n",
    "    return val_UI, val_I\n"
   ]
  },
  {
   "cell_type": "code",
   "execution_count": 4,
   "id": "8ba79755",
   "metadata": {},
   "outputs": [
    {
     "name": "stdout",
     "output_type": "stream",
     "text": [
      "Requirement already satisfied: cobra in d:\\software\\lib\\site-packages (0.29.0)\n",
      "Requirement already satisfied: appdirs~=1.4 in d:\\software\\lib\\site-packages (from cobra) (1.4.4)\n",
      "Requirement already satisfied: depinfo~=2.2 in d:\\software\\lib\\site-packages (from cobra) (2.2.0)\n",
      "Requirement already satisfied: diskcache~=5.0 in d:\\software\\lib\\site-packages (from cobra) (5.6.3)\n",
      "Requirement already satisfied: future in d:\\software\\lib\\site-packages (from cobra) (0.18.3)\n",
      "Requirement already satisfied: httpx~=0.24 in d:\\software\\lib\\site-packages (from cobra) (0.27.0)\n",
      "Requirement already satisfied: importlib-resources in d:\\software\\lib\\site-packages (from cobra) (6.4.0)\n",
      "Requirement already satisfied: numpy>=1.13 in d:\\software\\lib\\site-packages (from cobra) (1.24.3)\n",
      "Requirement already satisfied: optlang~=1.8 in d:\\software\\lib\\site-packages (from cobra) (1.8.1)\n",
      "Requirement already satisfied: pandas<3.0,>=1.0 in d:\\software\\lib\\site-packages (from cobra) (2.0.3)\n",
      "Requirement already satisfied: pydantic>=1.6 in d:\\software\\lib\\site-packages (from cobra) (1.10.8)\n",
      "Requirement already satisfied: python-libsbml~=5.19 in d:\\software\\lib\\site-packages (from cobra) (5.20.2)\n",
      "Requirement already satisfied: rich>=8.0 in d:\\software\\lib\\site-packages (from cobra) (13.7.1)\n",
      "Requirement already satisfied: ruamel.yaml~=0.16 in d:\\software\\lib\\site-packages (from cobra) (0.17.21)\n",
      "Requirement already satisfied: swiglpk in d:\\software\\lib\\site-packages (from cobra) (5.0.10)\n",
      "Requirement already satisfied: anyio in d:\\software\\lib\\site-packages (from httpx~=0.24->cobra) (3.5.0)\n",
      "Requirement already satisfied: certifi in d:\\software\\lib\\site-packages (from httpx~=0.24->cobra) (2024.6.2)\n",
      "Requirement already satisfied: httpcore==1.* in d:\\software\\lib\\site-packages (from httpx~=0.24->cobra) (1.0.5)\n",
      "Requirement already satisfied: idna in d:\\software\\lib\\site-packages (from httpx~=0.24->cobra) (3.4)\n",
      "Requirement already satisfied: sniffio in d:\\software\\lib\\site-packages (from httpx~=0.24->cobra) (1.2.0)\n",
      "Requirement already satisfied: h11<0.15,>=0.13 in d:\\software\\lib\\site-packages (from httpcore==1.*->httpx~=0.24->cobra) (0.14.0)\n",
      "Requirement already satisfied: six>=1.9 in d:\\software\\lib\\site-packages (from optlang~=1.8->cobra) (1.16.0)\n",
      "Requirement already satisfied: sympy>=1.12.0 in d:\\software\\lib\\site-packages (from optlang~=1.8->cobra) (1.12.1)\n",
      "Requirement already satisfied: python-dateutil>=2.8.2 in d:\\software\\lib\\site-packages (from pandas<3.0,>=1.0->cobra) (2.8.2)\n",
      "Requirement already satisfied: pytz>=2020.1 in d:\\software\\lib\\site-packages (from pandas<3.0,>=1.0->cobra) (2023.3.post1)\n",
      "Requirement already satisfied: tzdata>=2022.1 in d:\\software\\lib\\site-packages (from pandas<3.0,>=1.0->cobra) (2023.3)\n",
      "Requirement already satisfied: typing-extensions>=4.2.0 in d:\\software\\lib\\site-packages (from pydantic>=1.6->cobra) (4.7.1)\n",
      "Requirement already satisfied: markdown-it-py>=2.2.0 in d:\\software\\lib\\site-packages (from rich>=8.0->cobra) (2.2.0)\n",
      "Requirement already satisfied: pygments<3.0.0,>=2.13.0 in d:\\software\\lib\\site-packages (from rich>=8.0->cobra) (2.15.1)\n",
      "Requirement already satisfied: mdurl~=0.1 in d:\\software\\lib\\site-packages (from markdown-it-py>=2.2.0->rich>=8.0->cobra) (0.1.0)\n",
      "Requirement already satisfied: mpmath<1.4.0,>=1.1.0 in d:\\software\\lib\\site-packages (from sympy>=1.12.0->optlang~=1.8->cobra) (1.3.0)\n",
      "Note: you may need to restart the kernel to use updated packages.\n"
     ]
    }
   ],
   "source": [
    " pip install cobra"
   ]
  },
  {
   "cell_type": "code",
   "execution_count": 5,
   "id": "5c58a059",
   "metadata": {},
   "outputs": [],
   "source": [
    "import cobra\n",
    "from cobra.io import load_model"
   ]
  },
  {
   "cell_type": "code",
   "execution_count": 9,
   "id": "feb43d49",
   "metadata": {},
   "outputs": [],
   "source": [
    "import sys"
   ]
  },
  {
   "cell_type": "code",
   "execution_count": 10,
   "id": "d5c3c25d",
   "metadata": {},
   "outputs": [
    {
     "name": "stdout",
     "output_type": "stream",
     "text": [
      "['C:\\\\Users\\\\Sachin\\\\Summer Project', 'D:\\\\Software\\\\python311.zip', 'D:\\\\Software\\\\DLLs', 'D:\\\\Software\\\\Lib', 'D:\\\\Software', '', 'D:\\\\Software\\\\Lib\\\\site-packages', 'D:\\\\Software\\\\Lib\\\\site-packages\\\\win32', 'D:\\\\Software\\\\Lib\\\\site-packages\\\\win32\\\\lib', 'D:\\\\Software\\\\Lib\\\\site-packages\\\\Pythonwin', 'D:\\\\Software\\\\Lib\\\\site-packages\\\\libsbml', '/path/to/Raven-main']\n"
     ]
    }
   ],
   "source": [
    "raven_toolbox_path = '/path/to/Raven-main'\n",
    "\n",
    "# Add the path to the system path\n",
    "if raven_toolbox_path not in sys.path:\n",
    "    sys.path.append(raven_toolbox_path)\n",
    "\n",
    "# Verify that the path has been added\n",
    "print(sys.path)"
   ]
  },
  {
   "cell_type": "code",
   "execution_count": 11,
   "id": "db775873",
   "metadata": {},
   "outputs": [
    {
     "name": "stdout",
     "output_type": "stream",
     "text": [
      "['C:\\\\Users\\\\Sachin\\\\Summer Project', 'D:\\\\Software\\\\python311.zip', 'D:\\\\Software\\\\DLLs', 'D:\\\\Software\\\\Lib', 'D:\\\\Software', '', 'D:\\\\Software\\\\Lib\\\\site-packages', 'D:\\\\Software\\\\Lib\\\\site-packages\\\\win32', 'D:\\\\Software\\\\Lib\\\\site-packages\\\\win32\\\\lib', 'D:\\\\Software\\\\Lib\\\\site-packages\\\\Pythonwin', 'D:\\\\Software\\\\Lib\\\\site-packages\\\\libsbml', '/path/to/Raven-main', '/path/to/Human-GEM-main']\n"
     ]
    }
   ],
   "source": [
    "import sys\n",
    "\n",
    "# Replace '/path/to/Human-GEM' with the actual path to your extracted Human-GEM directory\n",
    "human_gem_path = '/path/to/Human-GEM-main'\n",
    "\n",
    "# Add the path to the system path\n",
    "if human_gem_path not in sys.path:\n",
    "    sys.path.append(human_gem_path)\n",
    "\n",
    "# Verify that the path has been added\n",
    "print(sys.path)"
   ]
  },
  {
   "cell_type": "code",
   "execution_count": 14,
   "id": "0c9d8fef",
   "metadata": {},
   "outputs": [
    {
     "name": "stdout",
     "output_type": "stream",
     "text": [
      "Requirement already satisfied: scipy in d:\\software\\lib\\site-packages (1.11.1)Note: you may need to restart the kernel to use updated packages.\n",
      "\n",
      "Requirement already satisfied: numpy<1.28.0,>=1.21.6 in d:\\software\\lib\\site-packages (from scipy) (1.24.3)\n"
     ]
    }
   ],
   "source": [
    "pip install scipy"
   ]
  },
  {
   "cell_type": "code",
   "execution_count": null,
   "id": "c08c186d",
   "metadata": {},
   "outputs": [],
   "source": []
  }
 ],
 "metadata": {
  "kernelspec": {
   "display_name": "Python 3 (ipykernel)",
   "language": "python",
   "name": "python3"
  },
  "language_info": {
   "codemirror_mode": {
    "name": "ipython",
    "version": 3
   },
   "file_extension": ".py",
   "mimetype": "text/x-python",
   "name": "python",
   "nbconvert_exporter": "python",
   "pygments_lexer": "ipython3",
   "version": "3.11.5"
  }
 },
 "nbformat": 4,
 "nbformat_minor": 5
}
